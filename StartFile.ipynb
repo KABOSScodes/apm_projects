{
 "cells": [
  {
   "cell_type": "code",
   "execution_count": null,
   "id": "c4d11f93",
   "metadata": {},
   "outputs": [],
   "source": [
    "# Required packages\n",
    "import pandas as pd       # For data handling\n",
    "import numpy as np        # For numerical operations (optional but useful)\n",
    "import matplotlib.pyplot as plt  # For plotting\n",
    "import seaborn as sns     # For nicer statistical plots\n",
    "\n",
    "# Load the Parquet file\n",
    "df = pd.read_parquet(\"~/Desktop/APMProjects/segmentation.parquet\")\n",
    "\n",
    "# Quick peek at the data\n",
    "print(df.head())       # First 5 rows\n",
    "print(df.info())       # Data types and non-null counts\n",
    "print(df.describe())   # Summary statistics for numeric columns\n",
    "\n",
    "# Example: plot distribution of a numeric column (replace 'Feature1' with actual column name)\n",
    "if 'Feature1' in df.columns:\n",
    "    sns.histplot(df['Feature1'], kde=True)\n",
    "    plt.title('Distribution of Feature1')\n",
    "    plt.show()\n",
    "else:\n",
    "    print(\"Replace 'Feature1' with a valid numeric column name from your dataset.\")\n"
   ]
  },
  {
   "cell_type": "code",
   "execution_count": null,
   "id": "3359cb89",
   "metadata": {},
   "outputs": [],
   "source": []
  }
 ],
 "metadata": {
  "language_info": {
   "name": "python"
  }
 },
 "nbformat": 4,
 "nbformat_minor": 5
}
