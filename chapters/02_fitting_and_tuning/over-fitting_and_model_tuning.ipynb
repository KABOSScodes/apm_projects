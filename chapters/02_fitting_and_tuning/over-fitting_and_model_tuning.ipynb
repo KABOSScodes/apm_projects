{
 "cells": [
  {
   "cell_type": "markdown",
   "id": "cd9370dd",
   "metadata": {},
   "source": [
    "# Chapter 02: Over-Fitting and Model Tuning"
   ]
  }
 ],
 "metadata": {
  "language_info": {
   "name": "python"
  }
 },
 "nbformat": 4,
 "nbformat_minor": 5
}
