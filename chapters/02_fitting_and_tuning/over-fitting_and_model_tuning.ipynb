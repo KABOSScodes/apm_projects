{
 "cells": [
  {
   "cell_type": "markdown",
   "id": "cd9370dd",
   "metadata": {},
   "source": [
    "# Over-Fitting and Model Tuning"
   ]
  },
  {
   "cell_type": "markdown",
   "id": "35c064bd",
   "metadata": {},
   "source": [
    "## Initializations"
   ]
  },
  {
   "cell_type": "code",
   "execution_count": null,
   "id": "17c94591",
   "metadata": {},
   "outputs": [],
   "source": [
    "# Required packages\n",
    "import pandas as pd       # For data handling\n",
    "import numpy as np        # For numerical operations (optional but useful)\n",
    "import matplotlib.pyplot as plt  # For plotting\n",
    "import seaborn as sns     # For nicer statistical plots\n",
    "import scienceplots\n",
    "from scipy.stats import skew\n",
    "from sklearn.preprocessing import PowerTransformer # For transformations \n",
    "from sklearn.decomposition import PCA # For Principal Component Analysis\n",
    "from sklearn.preprocessing import StandardScaler\n",
    "from scipy.cluster.hierarchy import linkage, leaves_list\n",
    "\n",
    "from sklearn.compose import ColumnTransformer\n",
    "from sklearn.preprocessing import OneHotEncoder\n",
    "from sklearn.preprocessing import OrdinalEncoder\n",
    "from sklearn.impute import KNNImputer\n",
    "from sklearn.preprocessing import PolynomialFeatures\n",
    "from sklearn.linear_model import LinearRegression\n",
    "from sklearn.metrics import mean_squared_error\n",
    "\n",
    "import sys\n",
    "import os\n",
    "\n",
    "# Absolute path to the repo root\n",
    "repo_root = os.path.abspath(os.path.join(os.getcwd(), \"../\"))\n",
    "\n",
    "if repo_root not in sys.path:\n",
    "    sys.path.append(repo_root)\n",
    "\n",
    "from utils import check_transform_suitability, selective_transform, near_zero_var, find_correlation, plot_corr\n",
    "\n",
    "# Set the plotting style\n",
    "sns.set_theme(style=\"darkgrid\")  # Set theme for seaborn plots\n",
    "\n",
    "# Load data required for the analysis in this notebook\n",
    "two_cd = pd.read_parquet(\"../../data/twoClassData.parquet\")\n",
    "german_credit = pd.read_parquet(\"../../data/GermanCredit.parquet\")\n",
    "chem_man_pro = pd.read(\"../../data/ChemicalManufacturingProcess.parquet\")"
   ]
  }
 ],
 "metadata": {
  "kernelspec": {
   "display_name": "apm_projects_env",
   "language": "python",
   "name": "python3"
  },
  "language_info": {
   "name": "python",
   "version": "3.11.13"
  }
 },
 "nbformat": 4,
 "nbformat_minor": 5
}
